{
 "cells": [
  {
   "cell_type": "code",
   "execution_count": 1,
   "id": "4befa065-e9c7-47e9-9b66-bb0a9fbbb401",
   "metadata": {},
   "outputs": [
    {
     "name": "stdout",
     "output_type": "stream",
     "text": [
      "Database created and connected!\n"
     ]
    }
   ],
   "source": [
    "import sqlite3\n",
    "connection = sqlite3.connect('student_grades.db')\n",
    "print(\"Database created and connected!\")"
   ]
  },
  {
   "cell_type": "code",
   "execution_count": 3,
   "id": "025b26d4-5166-4c8e-ad38-e59b76eab9a6",
   "metadata": {},
   "outputs": [
    {
     "name": "stdout",
     "output_type": "stream",
     "text": [
      "Cursor created!\n"
     ]
    }
   ],
   "source": [
    "cursor = connection.cursor()\n",
    "print(\"Cursor created!\")"
   ]
  },
  {
   "cell_type": "code",
   "execution_count": 7,
   "id": "8fed5edd-6966-4284-a073-d6111f8a0971",
   "metadata": {},
   "outputs": [
    {
     "name": "stdout",
     "output_type": "stream",
     "text": [
      "Cursor created!\n",
      "Students table created!\n"
     ]
    }
   ],
   "source": [
    "cursor = connection.cursor()\n",
    "print(\"Cursor created!\")\n",
    "cursor.execute('''\n",
    "CREATE TABLE IF NOT EXISTS students (\n",
    "    student_id INTEGER PRIMARY KEY AUTOINCREMENT,\n",
    "    first_name TEXT NOT NULL,\n",
    "    last_name TEXT NOT NULL\n",
    ")\n",
    "''')\n",
    "\n",
    "print(\"Students table created!\")"
   ]
  },
  {
   "cell_type": "code",
   "execution_count": 159,
   "id": "170efb01-9799-4de0-a634-b5ffca4c076c",
   "metadata": {},
   "outputs": [
    {
     "name": "stdout",
     "output_type": "stream",
     "text": [
      "Grades table created!\n"
     ]
    }
   ],
   "source": [
    "cursor.execute('''\n",
    "CREATE TABLE IF NOT EXISTS grades (\n",
    "    grade_id INTEGER PRIMARY KEY AUTOINCREMENT,\n",
    "    student_id INTEGER,\n",
    "    subject TEXT NOT NULL,\n",
    "    grade INTEGER,\n",
    "    FOREIGN KEY (student_id) REFERENCES students(student_id)\n",
    ")\n",
    "''')\n",
    "\n",
    "print(\"Grades table created!\")"
   ]
  },
  {
   "cell_type": "code",
   "execution_count": 59,
   "id": "e2d67d05-7046-4d83-9baa-895d7f57a378",
   "metadata": {},
   "outputs": [
    {
     "name": "stdout",
     "output_type": "stream",
     "text": [
      "Data inserted into the ss table!\n"
     ]
    }
   ],
   "source": [
    "students_data = [\n",
    "    ('Alice', 'Johnson'),\n",
    "    ('Bob', 'Smith'),\n",
    "    ('Carol', 'White'),\n",
    "    ('David', 'Brown'),\n",
    "    ('Eve', 'Davis')\n",
    "]\n",
    "\n",
    "cursor.executemany('''\n",
    "INSERT INTO students (first_name, last_name) VALUES (?, ?)\n",
    "''', students_data)\n",
    "\n",
    "connection.commit()\n",
    "\n",
    "print(\"Data inserted into the ss table!\")"
   ]
  },
  {
   "cell_type": "code",
   "execution_count": 20,
   "id": "eae54e54-ef96-4605-910f-b835a4b8b450",
   "metadata": {},
   "outputs": [
    {
     "name": "stdout",
     "output_type": "stream",
     "text": [
      "Data inserted into the grades table!\n"
     ]
    }
   ],
   "source": [
    "grades_data = [\n",
    "    (1, 'Math', 95),\n",
    "    (1, 'English', 88),\n",
    "    (1, 'History', 90),\n",
    "    (2, 'Math', 82),\n",
    "    (2, 'English', 76),\n",
    "    (2, 'History', 85),\n",
    "    (3, 'Math', 80),\n",
    "    (3, 'English', 77),\n",
    "    (3, 'History', 90),\n",
    "    (4, 'Math', 98),\n",
    "    (4, 'English', 95),\n",
    "    (4, 'History', 89),\n",
    "    (5, 'Math', 90),\n",
    "    (5, 'English', 99),\n",
    "    (5, 'History', 86)\n",
    "]\n",
    "\n",
    "cursor.executemany('''\n",
    "INSERT INTO grades (student_id, subject, grade) VALUES (?, ?, ?)\n",
    "''', grades_data)\n",
    "\n",
    "connection.commit()\n",
    "\n",
    "print(\"Data inserted into the grades table!\")"
   ]
  },
  {
   "cell_type": "code",
   "execution_count": 30,
   "id": "e421b4da-3883-4cf2-a93a-799acea0aa3c",
   "metadata": {},
   "outputs": [
    {
     "name": "stdout",
     "output_type": "stream",
     "text": [
      "Joined students and grades:\n",
      "('Alice', 'Johnson', 'Math', 95)\n",
      "('Alice', 'Johnson', 'English', 88)\n",
      "('Alice', 'Johnson', 'History', 90)\n",
      "('Bob', 'Smith', 'Math', 82)\n",
      "('Bob', 'Smith', 'English', 76)\n",
      "('Bob', 'Smith', 'History', 85)\n",
      "('Carol', 'White', 'Math', 80)\n",
      "('Carol', 'White', 'English', 77)\n",
      "('Carol', 'White', 'History', 90)\n",
      "('David', 'Brown', 'Math', 98)\n",
      "('David', 'Brown', 'English', 95)\n",
      "('David', 'Brown', 'History', 89)\n",
      "('Eve', 'Davis', 'Math', 90)\n",
      "('Eve', 'Davis', 'English', 99)\n",
      "('Eve', 'Davis', 'History', 86)\n"
     ]
    }
   ],
   "source": [
    "cursor.execute('''\n",
    "SELECT students.first_name, students.last_name, grades.subject, grades.grade\n",
    "FROM students\n",
    "JOIN grades ON students.student_id = grades.student_id\n",
    "''')\n",
    "\n",
    "joined_data = cursor.fetchall()\n",
    "\n",
    "print(\"Joined students and grades:\")\n",
    "for row in joined_data:\n",
    "    print(row)"
   ]
  },
  {
   "cell_type": "code",
   "execution_count": 61,
   "id": "2cf4247b-6003-4284-8186-b3c9b7e1eb1a",
   "metadata": {},
   "outputs": [
    {
     "name": "stdout",
     "output_type": "stream",
     "text": [
      "Average grade:\n",
      "('Alice', 'Johnson', 91.0)\n",
      "('Bob', 'Smith', 81.0)\n",
      "('Carol', 'White', 82.33333333333333)\n",
      "('David', 'Brown', 94.0)\n",
      "('Eve', 'Davis', 91.66666666666667)\n"
     ]
    }
   ],
   "source": [
    "cursor.execute('''\n",
    "SELECT students.first_name, students.last_name, AVG(grades.grade)\n",
    "FROM students\n",
    "JOIN grades ON students.student_id = grades.student_id\n",
    "GROUP BY students.first_name, students.last_name\n",
    "''')\n",
    "\n",
    "average_grade = cursor.fetchall()\n",
    "\n",
    "print(\"Average grade:\")\n",
    "for row in average_grade:\n",
    "    print(row)"
   ]
  },
  {
   "cell_type": "code",
   "execution_count": 65,
   "id": "01fbf7ab-9239-42ae-9aca-fe8405298971",
   "metadata": {},
   "outputs": [
    {
     "name": "stdout",
     "output_type": "stream",
     "text": [
      "Student with the highest average grade:\n",
      "('David', 'Brown', 94.0)\n"
     ]
    }
   ],
   "source": [
    "cursor.execute('''\n",
    "SELECT students.first_name, students.last_name, AVG(grades.grade) AS average_grade\n",
    "FROM students\n",
    "JOIN grades ON students.student_id = grades.student_id\n",
    "GROUP BY students.first_name, students.last_name\n",
    "ORDER BY average_grade DESC\n",
    "LIMIT 1\n",
    "''')\n",
    "\n",
    "highest_average_grade = cursor.fetchall()\n",
    "\n",
    "print(\"Student with the highest average grade:\")\n",
    "for row in highest_average_grade:\n",
    "    print(row)"
   ]
  },
  {
   "cell_type": "code",
   "execution_count": 69,
   "id": "837a9069-d2e9-4471-b611-bfbfd9e1fb59",
   "metadata": {},
   "outputs": [
    {
     "name": "stdout",
     "output_type": "stream",
     "text": [
      "Average grade for Math: 89.0\n"
     ]
    }
   ],
   "source": [
    "cursor.execute('''\n",
    "SELECT AVG(grade) FROM grades WHERE subject = 'Math'\n",
    "''')\n",
    "average_math_grade = cursor.fetchone()[0]\n",
    "\n",
    "print(f\"Average grade for Math: {average_math_grade}\")"
   ]
  },
  {
   "cell_type": "code",
   "execution_count": 71,
   "id": "06b32872-c7d9-4b3a-8fd2-9b5fd89cadbd",
   "metadata": {},
   "outputs": [
    {
     "name": "stdout",
     "output_type": "stream",
     "text": [
      "Students scored above 90:\n",
      "('Alice', 'Johnson', 95)\n",
      "('David', 'Brown', 98)\n",
      "('David', 'Brown', 95)\n",
      "('Eve', 'Davis', 99)\n"
     ]
    }
   ],
   "source": [
    "cursor.execute('''\n",
    "SELECT students.first_name, students.last_name, grades.grade\n",
    "FROM students\n",
    "JOIN grades ON students.student_id = grades.student_id\n",
    "WHERE grades.grade > 90\n",
    "''')\n",
    "\n",
    "grade_above_90 = cursor.fetchall()\n",
    "\n",
    "print(\"Students scored above 90:\")\n",
    "for row in grade_above_90:\n",
    "    print(row)"
   ]
  },
  {
   "cell_type": "code",
   "execution_count": 135,
   "id": "f4f07c07-29af-4c1a-9915-64e0278e547b",
   "metadata": {},
   "outputs": [
    {
     "data": {
      "text/html": [
       "<div>\n",
       "<style scoped>\n",
       "    .dataframe tbody tr th:only-of-type {\n",
       "        vertical-align: middle;\n",
       "    }\n",
       "\n",
       "    .dataframe tbody tr th {\n",
       "        vertical-align: top;\n",
       "    }\n",
       "\n",
       "    .dataframe thead th {\n",
       "        text-align: right;\n",
       "    }\n",
       "</style>\n",
       "<table border=\"1\" class=\"dataframe\">\n",
       "  <thead>\n",
       "    <tr style=\"text-align: right;\">\n",
       "      <th></th>\n",
       "      <th>student_id</th>\n",
       "      <th>first_name</th>\n",
       "      <th>last_name</th>\n",
       "    </tr>\n",
       "  </thead>\n",
       "  <tbody>\n",
       "    <tr>\n",
       "      <th>0</th>\n",
       "      <td>1</td>\n",
       "      <td>Alice</td>\n",
       "      <td>Johnson</td>\n",
       "    </tr>\n",
       "    <tr>\n",
       "      <th>1</th>\n",
       "      <td>2</td>\n",
       "      <td>Bob</td>\n",
       "      <td>Smith</td>\n",
       "    </tr>\n",
       "    <tr>\n",
       "      <th>2</th>\n",
       "      <td>3</td>\n",
       "      <td>Carol</td>\n",
       "      <td>White</td>\n",
       "    </tr>\n",
       "    <tr>\n",
       "      <th>3</th>\n",
       "      <td>4</td>\n",
       "      <td>David</td>\n",
       "      <td>Brown</td>\n",
       "    </tr>\n",
       "    <tr>\n",
       "      <th>4</th>\n",
       "      <td>5</td>\n",
       "      <td>Eve</td>\n",
       "      <td>Davis</td>\n",
       "    </tr>\n",
       "  </tbody>\n",
       "</table>\n",
       "</div>"
      ],
      "text/plain": [
       "   student_id first_name last_name\n",
       "0           1      Alice   Johnson\n",
       "1           2        Bob     Smith\n",
       "2           3      Carol     White\n",
       "3           4      David     Brown\n",
       "4           5        Eve     Davis"
      ]
     },
     "execution_count": 135,
     "metadata": {},
     "output_type": "execute_result"
    }
   ],
   "source": [
    "import pandas as pd\n",
    "students_df = pd.read_sql_query('SELECT * FROM students', connection)\n",
    "students_df.head()"
   ]
  },
  {
   "cell_type": "code",
   "execution_count": 139,
   "id": "108d8145-db03-4538-b7a7-5e34a806b6fc",
   "metadata": {},
   "outputs": [
    {
     "data": {
      "text/html": [
       "<div>\n",
       "<style scoped>\n",
       "    .dataframe tbody tr th:only-of-type {\n",
       "        vertical-align: middle;\n",
       "    }\n",
       "\n",
       "    .dataframe tbody tr th {\n",
       "        vertical-align: top;\n",
       "    }\n",
       "\n",
       "    .dataframe thead th {\n",
       "        text-align: right;\n",
       "    }\n",
       "</style>\n",
       "<table border=\"1\" class=\"dataframe\">\n",
       "  <thead>\n",
       "    <tr style=\"text-align: right;\">\n",
       "      <th></th>\n",
       "      <th>grade_id</th>\n",
       "      <th>student_id</th>\n",
       "      <th>subject</th>\n",
       "      <th>grade</th>\n",
       "    </tr>\n",
       "  </thead>\n",
       "  <tbody>\n",
       "    <tr>\n",
       "      <th>0</th>\n",
       "      <td>1</td>\n",
       "      <td>1</td>\n",
       "      <td>Math</td>\n",
       "      <td>95</td>\n",
       "    </tr>\n",
       "    <tr>\n",
       "      <th>1</th>\n",
       "      <td>2</td>\n",
       "      <td>1</td>\n",
       "      <td>English</td>\n",
       "      <td>88</td>\n",
       "    </tr>\n",
       "    <tr>\n",
       "      <th>2</th>\n",
       "      <td>3</td>\n",
       "      <td>1</td>\n",
       "      <td>History</td>\n",
       "      <td>90</td>\n",
       "    </tr>\n",
       "    <tr>\n",
       "      <th>3</th>\n",
       "      <td>4</td>\n",
       "      <td>2</td>\n",
       "      <td>Math</td>\n",
       "      <td>82</td>\n",
       "    </tr>\n",
       "    <tr>\n",
       "      <th>4</th>\n",
       "      <td>5</td>\n",
       "      <td>2</td>\n",
       "      <td>English</td>\n",
       "      <td>76</td>\n",
       "    </tr>\n",
       "  </tbody>\n",
       "</table>\n",
       "</div>"
      ],
      "text/plain": [
       "   grade_id  student_id  subject  grade\n",
       "0         1           1     Math     95\n",
       "1         2           1  English     88\n",
       "2         3           1  History     90\n",
       "3         4           2     Math     82\n",
       "4         5           2  English     76"
      ]
     },
     "execution_count": 139,
     "metadata": {},
     "output_type": "execute_result"
    }
   ],
   "source": [
    "import pandas as pd\n",
    "grades_df = pd.read_sql_query('SELECT * FROM grades', connection)\n",
    "grades_df.head()"
   ]
  },
  {
   "cell_type": "code",
   "execution_count": 141,
   "id": "6bba17f0-8eb1-4cae-a278-c45d04466f5d",
   "metadata": {},
   "outputs": [
    {
     "name": "stdout",
     "output_type": "stream",
     "text": [
      "Joined students and grades:\n",
      "('Alice', 'Johnson', 'Math', 95)\n",
      "('Alice', 'Johnson', 'English', 88)\n",
      "('Alice', 'Johnson', 'History', 90)\n",
      "('Bob', 'Smith', 'Math', 82)\n",
      "('Bob', 'Smith', 'English', 76)\n",
      "('Bob', 'Smith', 'History', 85)\n",
      "('Carol', 'White', 'Math', 80)\n",
      "('Carol', 'White', 'English', 77)\n",
      "('Carol', 'White', 'History', 90)\n",
      "('David', 'Brown', 'Math', 98)\n",
      "('David', 'Brown', 'English', 95)\n",
      "('David', 'Brown', 'History', 89)\n",
      "('Eve', 'Davis', 'Math', 90)\n",
      "('Eve', 'Davis', 'English', 99)\n",
      "('Eve', 'Davis', 'History', 86)\n",
      "   first_name last_name  subject  grade\n",
      "0       Alice   Johnson     Math     95\n",
      "1       Alice   Johnson  English     88\n",
      "2       Alice   Johnson  History     90\n",
      "3         Bob     Smith     Math     82\n",
      "4         Bob     Smith  English     76\n",
      "5         Bob     Smith  History     85\n",
      "6       Carol     White     Math     80\n",
      "7       Carol     White  English     77\n",
      "8       Carol     White  History     90\n",
      "9       David     Brown     Math     98\n",
      "10      David     Brown  English     95\n",
      "11      David     Brown  History     89\n",
      "12        Eve     Davis     Math     90\n",
      "13        Eve     Davis  English     99\n",
      "14        Eve     Davis  History     86\n"
     ]
    }
   ],
   "source": [
    "cursor.execute('''\n",
    "SELECT students.first_name, students.last_name, grades.subject, grades.grade\n",
    "FROM students\n",
    "JOIN grades ON students.student_id = grades.student_id\n",
    "''')\n",
    "\n",
    "joined_data = cursor.fetchall()\n",
    "\n",
    "print(\"Joined students and grades:\")\n",
    "for row in joined_data:\n",
    "    print(row)\n",
    "\n",
    "import pandas as pd\n",
    "joined_df = pd.merge(students_df, grades_df, on = 'student_id')\n",
    "print(joined_df[['first_name', 'last_name', 'subject', 'grade']])"
   ]
  },
  {
   "cell_type": "code",
   "execution_count": 147,
   "id": "c723327b-653c-4abe-8f24-580503a39ded",
   "metadata": {},
   "outputs": [
    {
     "data": {
      "image/png": "[encoded data removed]",
      "text/plain": [
       "<Figure size 1000x600 with 1 Axes>"
      ]
     },
     "metadata": {},
     "output_type": "display_data"
    },
    {
     "data": {
      "image/png": "[encoded data removed]",
      "text/plain": [
       "<Figure size 1000x600 with 1 Axes>"
      ]
     },
     "metadata": {},
     "output_type": "display_data"
    }
   ],
   "source": [
    "import matplotlib.pyplot as plt\n",
    "\n",
    "joined_df['full_name'] = joined_df['first_name'] + ' ' + joined_df['last_name']\n",
    "\n",
    "student_avg_grades = joined_df.groupby('full_name')['grade'].mean()\n",
    "\n",
    "plt.figure(figsize=(10,6))\n",
    "student_avg_grades.plot(kind='bar', color='skyblue')\n",
    "plt.xlabel('Student')\n",
    "plt.ylabel('Average Grade')\n",
    "plt.title('Average Grade for Each Student by')\n",
    "plt.show()\n",
    "\n",
    "subject_avg_grades = joined_df.groupby('subject')['grade'].mean()\n",
    "\n",
    "plt.figure(figsize=(10,6))\n",
    "subject_avg_grades.plot(kind='bar', color='coral')\n",
    "plt.xlabel('Subject')\n",
    "plt.ylabel('Average Grade')\n",
    "plt.title('Average Grade by Subject')\n",
    "plt.show()"
   ]
  },
  {
   "cell_type": "code",
   "execution_count": 157,
   "id": "02f2d19c-6eb7-4e6e-9e1e-898719d96087",
   "metadata": {},
   "outputs": [
    {
     "name": "stdout",
     "output_type": "stream",
     "text": [
      "Highest grade in each subject:\n",
      "('Alice', 'Johnson', 'History', 90)\n",
      "('Carol', 'White', 'History', 90)\n",
      "('David', 'Brown', 'Math', 98)\n",
      "('Eve', 'Davis', 'English', 99)\n"
     ]
    },
    {
     "data": {
      "image/png": "[encoded data removed]",
      "text/plain": [
       "<Figure size 1000x600 with 1 Axes>"
      ]
     },
     "metadata": {},
     "output_type": "display_data"
    }
   ],
   "source": [
    "cursor.execute('''\n",
    "SELECT students.first_name, students.last_name, grades.subject, grades.grade\n",
    "FROM students\n",
    "JOIN grades ON students.student_id = grades.student_id\n",
    "WHERE (grades.subject, grades.grade) IN (\n",
    "    SELECT subject, MAX(grade)\n",
    "    FROM grades\n",
    "    GROUP BY subject\n",
    ");\n",
    "''')\n",
    "\n",
    "highest_grade_subject = cursor.fetchall()\n",
    "\n",
    "print(\"Highest grade in each subject:\")\n",
    "for row in highest_grade_subject:\n",
    "    print(row)\n",
    "    \n",
    "highest_grades_df = pd.DataFrame(highest_grade_subject, columns=['first_name', 'last_name', 'subject', 'grade'])\n",
    "\n",
    "highest_grades_df['full_name'] = highest_grades_df['first_name'] + ' ' + highest_grades_df['last_name']\n",
    "\n",
    "pivot_df = highest_grades_df.pivot(index='full_name', columns='subject', values='grade')\n",
    "\n",
    "pivot_df.plot(kind='bar', figsize=(10, 6))\n",
    "plt.title('Highest Grade in Each Subject')\n",
    "plt.xlabel('Student')\n",
    "plt.ylabel('Grade')\n",
    "\n",
    "plt.show()"
   ]
  },
  {
   "cell_type": "code",
   "execution_count": null,
   "id": "b41b4217-e4d4-47bc-a354-541d3105bf08",
   "metadata": {},
   "outputs": [],
   "source": []
  }
 ],
 "metadata": {
  "kernelspec": {
   "display_name": "Python 3 (ipykernel)",
   "language": "python",
   "name": "python3"
  },
  "language_info": {
   "codemirror_mode": {
    "name": "ipython",
    "version": 3
   },
   "file_extension": ".py",
   "mimetype": "text/x-python",
   "name": "python",
   "nbconvert_exporter": "python",
   "pygments_lexer": "ipython3",
   "version": "3.12.4"
  }
 },
 "nbformat": 4,
 "nbformat_minor": 5
}
