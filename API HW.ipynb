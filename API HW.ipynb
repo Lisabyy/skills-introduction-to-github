{
 "cells": [
  {
   "cell_type": "code",
   "execution_count": 1,
   "id": "ebe0db0e-0cc2-49ee-9f4b-81319528756b",
   "metadata": {},
   "outputs": [],
   "source": [
    "import json\n",
    "import pandas as pd\n",
    "import json\n",
    "import requests"
   ]
  },
  {
   "cell_type": "code",
   "execution_count": 3,
   "id": "3a7b706a-2069-4fe3-85a9-6fb8754976ef",
   "metadata": {},
   "outputs": [
    {
     "name": "stdin",
     "output_type": "stream",
     "text": [
      " AAPL\n"
     ]
    }
   ],
   "source": [
    "#get stock from the user\n",
    "stock=input()"
   ]
  },
  {
   "cell_type": "code",
   "execution_count": 5,
   "id": "3681c8f5-2636-4e0d-9551-aa69df3800e7",
   "metadata": {},
   "outputs": [
    {
     "name": "stdout",
     "output_type": "stream",
     "text": [
      "The Stock we will research is:AAPL\n"
     ]
    }
   ],
   "source": [
    "print(\"The Stock we will research is:\" + stock)"
   ]
  },
  {
   "cell_type": "code",
   "execution_count": 35,
   "id": "09d29fe3-a990-4666-ab55-d367cb6197f5",
   "metadata": {},
   "outputs": [
    {
     "name": "stdout",
     "output_type": "stream",
     "text": [
      "{\"quoteResponse\":{\"result\":[{\"language\":\"en-US\",\"region\":\"US\",\"quoteType\":\"EQUITY\",\"typeDisp\":\"Equity\",\"quoteSourceName\":\"Nasdaq Real Time Price\",\"triggerable\":true,\"customPriceAlertConfidence\":\"HIGH\",\"currency\":\"USD\",\"hasPrePostMarketData\":true,\"firstTradeDateMilliseconds\":345479400000,\"priceHint\":2,\"postMarketChangePercent\":-0.127307,\"postMarketTime\":1727481596,\"postMarketPrice\":227.5,\"postMarketChange\":-0.289993,\"regularMarketChange\":0.20500183,\"regularMarketTime\":1727467204,\"regularMarketDayHigh\":229.52,\"regularMarketDayRange\":\"227.3 - 229.52\",\"regularMarketDayLow\":227.3,\"regularMarketVolume\":34025967,\"regularMarketPreviousClose\":227.52,\"bid\":227.59,\"ask\":240.09,\"bidSize\":5,\"askSize\":1,\"fullExchangeName\":\"NasdaqGS\",\"financialCurrency\":\"USD\",\"regularMarketOpen\":228.43,\"averageDailyVolume3Month\":54814806,\"averageDailyVolume10Day\":76087390,\"fiftyTwoWeekLowChange\":63.645004,\"fiftyTwoWeekLowChangePercent\":0.38789007,\"fiftyTwoWeekRange\":\"164.08 - 237.23\",\"fiftyTwoWeekHighChange\":-9.50499,\"fiftyTwoWeekHighChangePercent\":-0.04006656,\"fiftyTwoWeekLow\":164.08,\"fiftyTwoWeekHigh\":237.23,\"fiftyTwoWeekChangePercent\":31.102158,\"dividendDate\":1723680000,\"earningsTimestamp\":1722544200,\"earningsTimestampStart\":1730372340,\"earningsTimestampEnd\":1730721600,\"earningsCallTimestampStart\":1722546000,\"earningsCallTimestampEnd\":1722546000,\"isEarningsDateEstimate\":true,\"trailingAnnualDividendRate\":0.97,\"trailingPE\":34.714176,\"dividendRate\":1.0,\"trailingAnnualDividendYield\":0.0042633615,\"dividendYield\":0.44,\"epsTrailingTwelveMonths\":6.56,\"epsForward\":7.48,\"epsCurrentYear\":6.7,\"priceEpsCurrentYear\":33.988808,\"sharesOutstanding\":15204100096,\"bookValue\":4.382,\"fiftyDayAverage\":222.0918,\"fiftyDayAverageChange\":5.633209,\"fiftyDayAverageChangePercent\":0.025364328,\"twoHundredDayAverage\":197.18105,\"twoHundredDayAverageChange\":30.54396,\"twoHundredDayAverageChangePercent\":0.15490313,\"marketCap\":3462353911808,\"forwardPE\":30.444519,\"priceToBook\":51.96828,\"sourceInterval\":15,\"exchange\":\"NMS\",\"shortName\":\"Apple Inc.\",\"longName\":\"Apple Inc.\",\"messageBoardId\":\"finmb_24937\",\"exchangeTimezoneName\":\"America/New_York\",\"exchangeTimezoneShortName\":\"EDT\",\"gmtOffSetMilliseconds\":-14400000,\"market\":\"us_market\",\"esgPopulated\":false,\"regularMarketChangePercent\":0.09010277,\"regularMarketPrice\":227.725,\"marketState\":\"CLOSED\",\"exchangeDataDelayedBy\":0,\"averageAnalystRating\":\"2.0 - Buy\",\"tradeable\":false,\"cryptoTradeable\":false,\"displayName\":\"Apple\",\"symbol\":\"AAPL\"}],\"error\":null}}\n"
     ]
    }
   ],
   "source": [
    "apikey = \"PS4ebfrwvc3kiMufSdhcI7zosw5j52WR9WJw4Ro4\"\n",
    "url_one = \"https://yfapi.net/v6/finance/quote?region=US&lang=en&symbols=AAPL%2CBTC-USD%2CEURUSD%3DX\"\n",
    "querystring_one = {\"symbols\":stock}\n",
    "headers = {\n",
    "    'x-api-key': apikey\n",
    "    }\n",
    "\n",
    "response = requests.request(\"GET\", url_one, headers=headers, params=querystring_one)\n",
    "print(response.text)"
   ]
  },
  {
   "cell_type": "code",
   "execution_count": 37,
   "id": "2b6fc579-7607-483c-b8bb-c00822f265d9",
   "metadata": {},
   "outputs": [
    {
     "name": "stdout",
     "output_type": "stream",
     "text": [
      "Apple Inc. AAPL 52 Week High: $237.23 52 Week Low: $164.08\n"
     ]
    }
   ],
   "source": [
    "#print the company full name, ticker name, 52 week high and 52 week low\n",
    "stock_json = response.json()\n",
    "\n",
    "print(stock_json['quoteResponse']['result'][0][\"longName\"] + \n",
    "      \" \" + stock_json['quoteResponse']['result'][0][\"symbol\"] +\n",
    "      \" 52 Week High: $\" + str(stock_json['quoteResponse']['result'][0][\"fiftyTwoWeekHigh\"]) +\n",
    "      \" 52 Week Low: $\" + str(stock_json['quoteResponse']['result'][0][\"fiftyTwoWeekLow\"]))"
   ]
  },
  {
   "cell_type": "code",
   "execution_count": 39,
   "id": "6b048980-4a2e-43b8-a302-70ebf54612a4",
   "metadata": {},
   "outputs": [
    {
     "name": "stdout",
     "output_type": "stream",
     "text": [
      "{\"quoteSummary\":{\"result\":[{\"financialData\":{\"maxAge\":86400,\"currentPrice\":{\"raw\":227.725,\"fmt\":\"227.73\"},\"targetHighPrice\":{\"raw\":300.0,\"fmt\":\"300.00\"},\"targetLowPrice\":{\"raw\":183.86,\"fmt\":\"183.86\"},\"targetMeanPrice\":{\"raw\":240.58,\"fmt\":\"240.58\"},\"targetMedianPrice\":{\"raw\":243.0,\"fmt\":\"243.00\"},\"recommendationMean\":{\"raw\":2.0,\"fmt\":\"2.00\"},\"recommendationKey\":\"buy\",\"numberOfAnalystOpinions\":{\"raw\":40,\"fmt\":\"40\",\"longFmt\":\"40\"},\"totalCash\":{\"raw\":61801000960,\"fmt\":\"61.8B\",\"longFmt\":\"61,801,000,960\"},\"totalCashPerShare\":{\"raw\":4.065,\"fmt\":\"4.07\"},\"ebitda\":{\"raw\":131781001216,\"fmt\":\"131.78B\",\"longFmt\":\"131,781,001,216\"},\"totalDebt\":{\"raw\":101304000512,\"fmt\":\"101.3B\",\"longFmt\":\"101,304,000,512\"},\"quickRatio\":{\"raw\":0.798,\"fmt\":\"0.80\"},\"currentRatio\":{\"raw\":0.953,\"fmt\":\"0.95\"},\"totalRevenue\":{\"raw\":385603010560,\"fmt\":\"385.6B\",\"longFmt\":\"385,603,010,560\"},\"debtToEquity\":{\"raw\":151.862,\"fmt\":\"151.86%\"},\"revenuePerShare\":{\"raw\":24.957,\"fmt\":\"24.96\"},\"returnOnAssets\":{\"raw\":0.22612,\"fmt\":\"22.61%\"},\"returnOnEquity\":{\"raw\":1.60583,\"fmt\":\"160.58%\"},\"grossProfits\":{},\"freeCashflow\":{\"raw\":86158123008,\"fmt\":\"86.16B\",\"longFmt\":\"86,158,123,008\"},\"operatingCashflow\":{\"raw\":113040998400,\"fmt\":\"113.04B\",\"longFmt\":\"113,040,998,400\"},\"earningsGrowth\":{\"raw\":0.111,\"fmt\":\"11.10%\"},\"revenueGrowth\":{\"raw\":0.049,\"fmt\":\"4.90%\"},\"grossMargins\":{\"raw\":0.45962003,\"fmt\":\"45.96%\"},\"ebitdaMargins\":{\"raw\":0.34175,\"fmt\":\"34.17%\"},\"operatingMargins\":{\"raw\":0.29556,\"fmt\":\"29.56%\"},\"profitMargins\":{\"raw\":0.26441,\"fmt\":\"26.44%\"},\"financialCurrency\":\"USD\"}}],\"error\":null}}\n"
     ]
    }
   ],
   "source": [
    "apikey = \"PS4ebfrwvc3kiMufSdhcI7zosw5j52WR9WJw4Ro4\"\n",
    "url_two = \"https://yfapi.net/v11/finance/quoteSummary/AAPL?lang=en&region=US&modules=financialData\"\n",
    "querystring_two = {\"symbols\":stock}\n",
    "headers = {\n",
    "    'x-api-key': apikey\n",
    "    }\n",
    "\n",
    "response = requests.request(\"GET\", url_two, headers=headers, params=querystring_two)\n",
    "print(response.text)"
   ]
  },
  {
   "cell_type": "code",
   "execution_count": 47,
   "id": "b1866515-f242-4dbc-bf12-e583f786622d",
   "metadata": {},
   "outputs": [
    {
     "name": "stdout",
     "output_type": "stream",
     "text": [
      " Current Market Price: $227.73 Target Mean Price: $240.58\n"
     ]
    }
   ],
   "source": [
    "#print the current market price and target mean price\n",
    "quotesummary_json = response.json()\n",
    "\n",
    "print(\" Current Market Price: $\" + str(quotesummary_json['quoteSummary']['result'][0]['financialData'][\"currentPrice\"][\"fmt\"]) + \n",
    "      \" Target Mean Price: $\" + str(quotesummary_json['quoteSummary']['result'][0]['financialData'][\"targetMeanPrice\"][\"fmt\"]))"
   ]
  },
  {
   "cell_type": "code",
   "execution_count": 55,
   "id": "3b2b6dd6-751c-4fd3-afb5-58f1e7b32103",
   "metadata": {
    "scrolled": true
   },
   "outputs": [
    {
     "name": "stdout",
     "output_type": "stream",
     "text": [
      "{\"finance\":{\"result\":[{\"count\":20,\"quotes\":[{\"symbol\":\"NQ=F\"},{\"symbol\":\"ES=F\"},{\"symbol\":\"YM=F\"},{\"symbol\":\"AMSC\"},{\"symbol\":\"GC=F\"},{\"symbol\":\"^N225\"},{\"symbol\":\"PWR\"},{\"symbol\":\"SNAP\"},{\"symbol\":\"CL=F\"},{\"symbol\":\"SI=F\"},{\"symbol\":\"RTY=F\"},{\"symbol\":\"JPY=X\"},{\"symbol\":\"^VIX\"},{\"symbol\":\"9988.HK\"},{\"symbol\":\"EME\"},{\"symbol\":\"SOL-USD\"},{\"symbol\":\"BTC=F\"},{\"symbol\":\"HG=F\"},{\"symbol\":\"NG=F\"},{\"symbol\":\"NVDA\"}],\"jobTimestamp\":1727655768034,\"startInterval\":202409292300}],\"error\":null}}\n"
     ]
    }
   ],
   "source": [
    "apikey = \"PS4ebfrwvc3kiMufSdhcI7zosw5j52WR9WJw4Ro4\"\n",
    "url_three = \"https://yfapi.net/v1/finance/trending/US\"\n",
    "querystring_three = {\"symbols\":stock}\n",
    "headers = {\n",
    "    'x-api-key': apikey\n",
    "    }\n",
    "\n",
    "response = requests.request(\"GET\", url_three, headers=headers, params=querystring_three)\n",
    "print(response.text)"
   ]
  },
  {
   "cell_type": "code",
   "execution_count": 72,
   "id": "6fd878d3-c5dc-4b15-b857-2b0f6934889d",
   "metadata": {},
   "outputs": [
    {
     "name": "stdout",
     "output_type": "stream",
     "text": [
      "5 Trending Stocks:\n",
      "1. NQ=F\n",
      "2. ES=F\n",
      "3. YM=F\n",
      "4. AMSC\n",
      "5. GC=F\n"
     ]
    }
   ],
   "source": [
    "trending_json = response.json()\n",
    "\n",
    "trending_stocks = trending_json['finance']['result'][0]['quotes']\n",
    "\n",
    "print(\"5 Trending Stocks:\")\n",
    "for i, stock in enumerate(trending_stocks[:5]): \n",
    "    print(f\"{i+1}. {stock['symbol']}\")"
   ]
  },
  {
   "cell_type": "code",
   "execution_count": 112,
   "id": "6758577c-2009-4125-8d99-fd9b8494646a",
   "metadata": {},
   "outputs": [
    {
     "name": "stdout",
     "output_type": "stream",
     "text": [
      "   Stock Name Ticker  52 Week High  52 Week Low Current Price  \\\n",
      "0  Apple Inc.   AAPL        237.23       164.08        227.73   \n",
      "\n",
      "  Target Mean Price               Trending Stocks  \n",
      "0            240.58  NQ=F, ES=F, YM=F, AMSC, GC=F  \n"
     ]
    }
   ],
   "source": [
    "stock_name = stock_json['quoteResponse']['result'][0][\"longName\"] \n",
    "ticker = stock_json['quoteResponse']['result'][0][\"symbol\"]\n",
    "fiftytwo_high = stock_json['quoteResponse']['result'][0]['fiftyTwoWeekHigh']\n",
    "fiftytwo_low = stock_json['quoteResponse']['result'][0]['fiftyTwoWeekLow']\n",
    "current_price = quotesummary_json['quoteSummary']['result'][0]['financialData']['currentPrice']['fmt']\n",
    "target_mean_price = quotesummary_json['quoteSummary']['result'][0]['financialData']['targetMeanPrice']['fmt']\n",
    "\n",
    "trending_stocks = [stock['symbol'] for stock in trending_json['finance']['result'][0]['quotes'][:5]]\n",
    "\n",
    "data = {\n",
    "    'Stock Name': [stock_name],\n",
    "    'Ticker': [ticker],\n",
    "    '52 Week High': [fiftytwo_high],\n",
    "    '52 Week Low': [fiftytwo_low],\n",
    "    'Current Price': [current_price],\n",
    "    'Target Mean Price': [target_mean_price],\n",
    "    'Trending Stocks': [', '.join(trending_stocks)] \n",
    "}\n",
    "\n",
    "df = pd.DataFrame(data)\n",
    "print(df)\n",
    "df.to_csv('stock_data.csv', index=False)"
   ]
  },
  {
   "cell_type": "code",
   "execution_count": 114,
   "id": "2cb34845-eecf-4b6f-9276-66cf85ab58ea",
   "metadata": {},
   "outputs": [
    {
     "name": "stdout",
     "output_type": "stream",
     "text": [
      "{\"chart\":{\"result\":[{\"meta\":{\"currency\":\"USD\",\"symbol\":\"AAPL\",\"exchangeName\":\"NMS\",\"fullExchangeName\":\"NasdaqGS\",\"instrumentType\":\"EQUITY\",\"firstTradeDate\":345479400,\"regularMarketTime\":1727467204,\"hasPrePostMarketData\":true,\"gmtoffset\":-14400,\"timezone\":\"EDT\",\"exchangeTimezoneName\":\"America/New_York\",\"regularMarketPrice\":227.725,\"fiftyTwoWeekHigh\":229.52,\"fiftyTwoWeekLow\":227.3,\"regularMarketDayHigh\":229.52,\"regularMarketDayLow\":227.3,\"regularMarketVolume\":34025967,\"longName\":\"Apple Inc.\",\"shortName\":\"Apple Inc.\",\"chartPreviousClose\":228.2,\"priceHint\":2,\"currentTradingPeriod\":{\"pre\":{\"timezone\":\"EDT\",\"start\":1727424000,\"end\":1727443800,\"gmtoffset\":-14400},\"regular\":{\"timezone\":\"EDT\",\"start\":1727443800,\"end\":1727467200,\"gmtoffset\":-14400},\"post\":{\"timezone\":\"EDT\",\"start\":1727467200,\"end\":1727481600,\"gmtoffset\":-14400}},\"dataGranularity\":\"1d\",\"range\":\"5d\",\"validRanges\":[\"1d\",\"5d\",\"1mo\",\"3mo\",\"6mo\",\"1y\",\"2y\",\"5y\",\"10y\",\"ytd\",\"max\"]},\"timestamp\":[1727098200,1727184600,1727271000,1727357400,1727443800],\"indicators\":{\"quote\":[{\"volume\":[54146000,43556100,42308700,36636700,33993600],\"high\":[229.4499969482422,229.35000610351562,227.2899932861328,228.5,229.52000427246094],\"low\":[225.80999755859375,225.72999572753906,224.02000427246094,225.41000366210938,227.3000030517578],\"open\":[227.33999633789062,228.64999389648438,224.92999267578125,227.3000030517578,228.4600067138672],\"close\":[226.47000122070312,227.3699951171875,226.3699951171875,227.52000427246094,227.7899932861328]}],\"adjclose\":[{\"adjclose\":[226.47000122070312,227.3699951171875,226.3699951171875,227.52000427246094,227.7899932861328]}]}}],\"error\":null}}\n"
     ]
    }
   ],
   "source": [
    "apikey = \"PS4ebfrwvc3kiMufSdhcI7zosw5j52WR9WJw4Ro4\"\n",
    "url_two = \"https://yfapi.net/v8/finance/chart/AAPL?range=5d&region=US&interval=1d&lang=en&events=div%2Csplit\"\n",
    "querystring_two = {\"symbols\":stock}\n",
    "headers = {\n",
    "    'x-api-key': apikey\n",
    "    }\n",
    "\n",
    "response = requests.request(\"GET\", url_two, headers=headers, params=querystring_two)\n",
    "print(response.text)"
   ]
  },
  {
   "cell_type": "code",
   "execution_count": 129,
   "id": "996602a5-9114-4f05-917b-a55b070a3e0a",
   "metadata": {},
   "outputs": [
    {
     "name": "stdout",
     "output_type": "stream",
     "text": [
      "[229.4499969482422, 229.35000610351562, 227.2899932861328, 228.5, 229.52000427246094]\n"
     ]
    }
   ],
   "source": [
    "chart_json = response.json()\n",
    "five_day_high = chart_json['chart']['result'][0]['indicators']['quote'][0]['high']\n",
    "print(five_day_high)"
   ]
  },
  {
   "cell_type": "code",
   "execution_count": 133,
   "id": "9c8dc63f-6d3f-479a-bdfc-006a3a9719cb",
   "metadata": {},
   "outputs": [
    {
     "data": {
      "image/png": "[encoded data removed]",
      "text/plain": [
       "<Figure size 1000x500 with 1 Axes>"
      ]
     },
     "metadata": {},
     "output_type": "display_data"
    }
   ],
   "source": [
    "import matplotlib.pyplot as plt\n",
    "\n",
    "timestamps = chart_json['chart']['result'][0]['timestamp']\n",
    "dates = pd.to_datetime(timestamps, unit='s').strftime('%Y-%m-%d')\n",
    "plt.figure(figsize=(10, 5))\n",
    "plt.plot(dates, five_day_high, marker='o', linestyle='-', color='b', label='High Prices')\n",
    "\n",
    "plt.show()"
   ]
  }
 ],
 "metadata": {
  "kernelspec": {
   "display_name": "Python 3 (ipykernel)",
   "language": "python",
   "name": "python3"
  },
  "language_info": {
   "codemirror_mode": {
    "name": "ipython",
    "version": 3
   },
   "file_extension": ".py",
   "mimetype": "text/x-python",
   "name": "python",
   "nbconvert_exporter": "python",
   "pygments_lexer": "ipython3",
   "version": "3.12.4"
  }
 },
 "nbformat": 4,
 "nbformat_minor": 5
}
